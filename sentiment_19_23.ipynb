{
  "nbformat": 4,
  "nbformat_minor": 0,
  "metadata": {
    "colab": {
      "provenance": []
    },
    "kernelspec": {
      "name": "python3",
      "display_name": "Python 3"
    },
    "language_info": {
      "name": "python"
    }
  },
  "cells": [
    {
      "cell_type": "code",
      "execution_count": null,
      "metadata": {
        "id": "zRUVEEa4COSG",
        "colab": {
          "base_uri": "https://localhost:8080/"
        },
        "outputId": "d31298b8-b248-412b-fd6a-161c78d7bbac"
      },
      "outputs": [
        {
          "output_type": "stream",
          "name": "stdout",
          "text": [
            "Mounted at /content/drive\n"
          ]
        }
      ],
      "source": [
        "from pandas import DataFrame,read_csv\n",
        "from google.colab import drive\n",
        "import pandas as pd\n",
        "import numpy as np\n",
        "import matplotlib.pyplot as plt\n",
        "import matplotlib\n",
        "import sys\n",
        "import os\n",
        "from prettytable import PrettyTable\n",
        "import gc\n",
        "drive.mount('/content/drive')"
      ]
    },
    {
      "cell_type": "markdown",
      "source": [
        "# 1"
      ],
      "metadata": {
        "id": "7m000iOqFkT1"
      }
    },
    {
      "cell_type": "markdown",
      "source": [
        "The same procedure as the first assignment. The columns are created , we iterate through each file in order to find and drop the columns that are not desirable.I create dfs from the reviews of each month and then merge them and write them to a .csv file."
      ],
      "metadata": {
        "id": "8jTYed3NHsBq"
      }
    },
    {
      "cell_type": "code",
      "source": [
        "columns = ['id' , 'comments']\n",
        "\n",
        "june_df=pd.DataFrame()\n",
        "Location = r'/content/drive/My Drive/path/to/june_data.csv'\n",
        "june_df=pd.read_csv(Location,low_memory=False)\n",
        "\n",
        "for x in june_df:\n",
        "    if x not in columns:\n",
        "        del june_df[x]\n",
        "#add month column\n",
        "june_df['Month'] = 'June'\n",
        "\n",
        "september_df=pd.DataFrame()\n",
        "Location = r'/content/drive/My Drive/path/to/september_data.csv'\n",
        "september_df=pd.read_csv(Location,low_memory=False)\n",
        "\n",
        "for x in september_df:\n",
        "    if x not in columns:\n",
        "        del september_df[x]\n",
        "#add month column\n",
        "september_df['Month'] = 'September'\n",
        "\n",
        "march_df=pd.DataFrame()\n",
        "Location = r'/content/drive/My Drive/path/to/march_data.csv'\n",
        "march_df=pd.read_csv(Location, low_memory=False)\n",
        "\n",
        "for x in march_df:\n",
        "    if x not in columns:\n",
        "        del march_df[x]\n",
        "#add month column\n",
        "march_df['Month'] = 'March'\n",
        "\n",
        "df = pd.concat([june_df,september_df,march_df])\n",
        "count = 0\n",
        "for x in df:\n",
        "    count +=1\n",
        "    print(x)\n",
        "print(count)\n",
        "\n",
        "df.to_csv('/content/drive/My Drive/path/to/all_data.csv' , index=False)\n",
        "del df , june_df, september_df, march_df\n",
        "gc.collect()"
      ],
      "metadata": {
        "id": "B74FLqPqFl4M"
      },
      "execution_count": null,
      "outputs": []
    },
    {
      "cell_type": "code",
      "source": [
        "!pip install langdetect\n",
        "!pip install afinn\n",
        "from langdetect import detect\n",
        "import seaborn as sns\n",
        "import re\n",
        "import spacy\n",
        "import nltk\n",
        "from afinn import Afinn\n",
        "from concurrent.futures import ProcessPoolExecutor, as_completed\n",
        "import gc\n",
        "from joblib import Parallel, delayed\n",
        "nltk.download('punkt')\n",
        "from transformers import pipeline"
      ],
      "metadata": {
        "id": "tK32pmOOJ_o9"
      },
      "execution_count": null,
      "outputs": []
    },
    {
      "cell_type": "markdown",
      "source": [
        "The next two cells are similar to what i've used for the recommendation system in the first assignment.Functions to remove stopwords with the help of spacy , remove emojis and html.Sample 3000 rows from the DataFrame , creating a new one with the specified columns.ID is index in random_df.Add a column 'language' to find the non-english strings and drop the corresponding rows. Lowercase everything and drop 'language' column. The same code is used for both years by adjusting the location from my drive."
      ],
      "metadata": {
        "id": "QH8bX0h9ICQX"
      }
    },
    {
      "cell_type": "code",
      "source": [
        "df=pd.DataFrame()\n",
        "Location = r'/content/drive/My Drive/path/to/all_data.csv'\n",
        "df = pd.read_csv(Location , low_memory= False)\n",
        "\n",
        "punctuation_pattern = r'[^\\w\\s]'\n",
        "number_pattern = r'\\b\\d+\\b'\n",
        "nlp = spacy.load('en_core_web_sm')\n",
        "\n",
        "# to remove stopwords\n",
        "def remove_stopwords(text):\n",
        "    doc = nlp(text)\n",
        "    text_no_stopwords = ' '.join([token.text for token in doc if not token.is_stop])\n",
        "    return text_no_stopwords\n",
        "# to remove emojis\n",
        "def remove_emojis(text):\n",
        "    emoji_pattern = re.compile(\"[\"\n",
        "                               u\"\\U0001F600-\\U0001F64F\"  # emoticons\n",
        "                               u\"\\U0001F300-\\U0001F5FF\"  # symbols & pictographs\n",
        "                               u\"\\U0001F680-\\U0001F6FF\"  # transport & map symbols\n",
        "                               u\"\\U0001F1E0-\\U0001F1FF\"  # flags (iOS)\n",
        "                               \"]+\", flags=re.UNICODE)\n",
        "    return emoji_pattern.sub(r'', text)\n",
        "# remove punctuation marks , numbers and html\n",
        "def remove_html_pun_num(text):\n",
        "    text_no_num = re.sub(number_pattern, '', text)\n",
        "    text_no_pun = re.sub(punctuation_pattern, '', text_no_num)\n",
        "    return re.compile(r'<[^>]+>').sub('', text_no_pun)\n",
        "\n",
        "def detect_en(text):\n",
        "  try:\n",
        "    return detect(text)\n",
        "  except:\n",
        "    return 'unknown'"
      ],
      "metadata": {
        "id": "fS9rtL4PJH2L"
      },
      "execution_count": null,
      "outputs": []
    },
    {
      "cell_type": "code",
      "source": [
        "sample_df = df.sample(4500)\n",
        "random_df = sample_df[['id' ,'comments']].copy()\n",
        "\n",
        "random_df = random_df.fillna('')\n",
        "random_df['comments'] = random_df['comments'].apply(remove_html_pun_num)\n",
        "random_df['comments'] = random_df['comments'].apply(remove_emojis)\n",
        "random_df['comments'] = random_df['comments'].apply(remove_stopwords)\n",
        "\n",
        "lang_df = random_df['comments'].apply(detect_en)\n",
        "random_df['language'] = lang_df\n",
        "\n",
        "rows_to_drop = random_df[random_df['language'] != 'en']\n",
        "random_df = random_df.drop(rows_to_drop.index)\n",
        "\n",
        "random_df['comments'] = random_df['comments'].str.lower()\n",
        "random_df = random_df.drop('language' , axis=1)\n",
        "\n",
        "del sample_df\n",
        "# num_rows = random_df.shape[0]\n",
        "# print(num_rows)\n",
        "# print(random_df)"
      ],
      "metadata": {
        "id": "AJYEXHOsJa9n"
      },
      "execution_count": null,
      "outputs": []
    },
    {
      "cell_type": "markdown",
      "source": [
        "I process the data by chunks. ProcessPoolExecutor is used for parallel execution."
      ],
      "metadata": {
        "id": "Z40z8ipLdcvi"
      }
    },
    {
      "cell_type": "code",
      "source": [
        "sentiment_analysis =pipeline(\"text-classification\", model=\"j-hartmann/sentiment-roberta-large-english-3-classes\", return_all_scores=True)\n",
        "def analyze_sentiment(text):\n",
        "    try:\n",
        "        result_list = sentiment_analysis(text)\n",
        "        if isinstance(result_list, list) and result_list:\n",
        "# Extract the inner list of dictionaries\n",
        "            result = result_list[0]\n",
        "# choose result with highest score\n",
        "            if isinstance(result, list) and result:\n",
        "                top_score = max(result, key=lambda x: x['score'])['score']\n",
        "\n",
        "                for item in result:\n",
        "                    if item['score'] == top_score:\n",
        "                        return item['label'], item['score']\n",
        "            else:\n",
        "                print(f\"Unexpected result format inside the inner list: {result}\")\n",
        "                return None, None\n",
        "        else:\n",
        "            print(f\"Unexpected result format: {result_list}\")\n",
        "            return None, None\n",
        "    except Exception as e:\n",
        "        print(f\"Error analyzing sentiment: {e}\")\n",
        "        return None, None\n",
        "\n",
        "def process_chunk(chunk):\n",
        "    chunk['sentiment'], chunk['score'] = zip(*chunk['comments'].apply(analyze_sentiment))\n",
        "    return chunk\n",
        "\n",
        "def parallel_process(df, func, n_jobs=4, batch_size=100):\n",
        "    results = []\n",
        "    with ProcessPoolExecutor(max_workers=n_jobs) as executor:\n",
        "        futures = []\n",
        "        for i in range(0, len(df), batch_size):\n",
        "            chunk = df.iloc[i:i + batch_size]\n",
        "            futures.append(executor.submit(func, chunk))\n",
        "\n",
        "        for future in as_completed(futures):\n",
        "            try:\n",
        "                result = future.result()\n",
        "                results.append(result)\n",
        "            except Exception as e:\n",
        "                print(f\"Error processing chunk: {e}\")\n",
        "\n",
        "    # Combine results of chunks\n",
        "    final_df = pd.concat(results)\n",
        "    gc.collect()\n",
        "    return final_df\n",
        "\n",
        "n_jobs = 4\n",
        "batch_size = 100\n",
        "try:\n",
        "    result_df = parallel_process(random_df, process_chunk, n_jobs=n_jobs, batch_size=batch_size)\n",
        "\n",
        "    pos = sum(result_df['sentiment'] == 'positive')\n",
        "    neg = sum(result_df['sentiment'] == 'negative')\n",
        "    neut = sum(result_df['sentiment'] == 'neutral')\n",
        "\n",
        "    print(f'Pos = {pos / len(result_df)} and Neg = {neg / len(result_df)}')\n",
        "    print(f'Pos = {pos} and Neg = {neg} and Neut = {neut}')\n",
        "\n",
        "except Exception as e:\n",
        "    print(f\"Error during parallel processing: {e}\")"
      ],
      "metadata": {
        "id": "4jUBlzJcxpCy"
      },
      "execution_count": null,
      "outputs": []
    },
    {
      "cell_type": "code",
      "source": [
        "result_df.to_csv('/content/drive/My Drive/path/to/sample_data.csv' , index=False)"
      ],
      "metadata": {
        "id": "D0RuVeDTY5Gg"
      },
      "execution_count": null,
      "outputs": []
    },
    {
      "cell_type": "code",
      "source": [
        "res2019_df = pd.read_csv('/content/drive/My Drive/path/to/sample_data.csv' , low_memory= False , lineterminator='\\n')\n",
        "res2023_df = pd.read_csv('/content/drive/My Drive/path/to//sample_data.csv' , low_memory= False , lineterminator='\\n')\n",
        "# print(res2019_df.shape)\n",
        "# print(res2023_df.shape)\n",
        "\n",
        "#Making the  2 dfs same size by removing some postives\n",
        "positive_rows = res2019_df[res2019_df['sentiment'] == 'positive']\n",
        "rows_to_remove = positive_rows.head(91)\n",
        "res2019_df_filtered = res2019_df.drop(rows_to_remove.index)\n",
        "\n",
        "res2023_df['year'] = 2023\n",
        "res2019_df_filtered['year'] = 2019\n",
        "combined_df = pd.concat([res2019_df_filtered, res2023_df], axis=0)\n",
        "grouped_df = combined_df.groupby(['year', 'sentiment']).size().reset_index(name='count')\n",
        "\n",
        "# Plotting the bar plot for comparison\n",
        "plt.figure(figsize=(12, 6))\n",
        "sns.barplot(x='year', y='count', hue='sentiment', data=grouped_df)\n",
        "plt.title('Sentiment Distribution per Year')\n",
        "plt.xlabel('Year')\n",
        "plt.ylabel('Frequency')\n",
        "plt.legend(title='Sentiment')\n",
        "plt.show()"
      ],
      "metadata": {
        "id": "Oez3_qz-ZbV3",
        "colab": {
          "base_uri": "https://localhost:8080/",
          "height": 600
        },
        "outputId": "803fc8b0-f431-4ba5-f0b1-f2caa69179f9"
      },
      "execution_count": null,
      "outputs": [
        {
          "output_type": "stream",
          "name": "stdout",
          "text": [
            "(3330, 4)\n",
            "(3239, 4)\n"
          ]
        },
        {
          "output_type": "display_data",
          "data": {
            "text/plain": [
              "<Figure size 1200x600 with 1 Axes>"
            ],
            "image/png": "[encoded data removed]"
          },
          "metadata": {}
        }
      ]
    },
    {
      "cell_type": "markdown",
      "source": [
        "# 2\n",
        "\n",
        "Splitting the Data to tain and test so predictions can be made on sentiments.\n",
        "\n",
        "3 different classifiers will be used :\n",
        "\n",
        "KNN , Random Forest , SVM\n",
        "\n",
        "Load 2023 csv file I created from the sentiment analysis of the previous question(the data are already processed). Define a function for tokenization and handling of unknown vocabulary .Split the data for both TF-IDF and Word Embeddings and finally generating some synthetic samples(negative and neutral) using SMOTE to balance the data."
      ],
      "metadata": {
        "id": "AOCS34MVrVGt"
      }
    },
    {
      "cell_type": "code",
      "source": [
        "from sklearn.model_selection import train_test_split\n",
        "from sklearn.feature_extraction.text import TfidfVectorizer\n",
        "from sklearn.neighbors import KNeighborsClassifier\n",
        "from sklearn.ensemble import RandomForestClassifier\n",
        "from sklearn import svm\n",
        "from scipy.sparse import csr_matrix\n",
        "from sklearn.model_selection import KFold, cross_val_predict\n",
        "from sklearn.metrics import accuracy_score, precision_score, recall_score, f1_score\n",
        "from imblearn.over_sampling import SMOTE\n",
        "import gensim.downloader as api"
      ],
      "metadata": {
        "id": "HJ3YvMhQs_vt"
      },
      "execution_count": null,
      "outputs": []
    },
    {
      "cell_type": "code",
      "source": [
        "#2023\n",
        "Location = r'/content/drive/My Drive/path/to/'\n",
        "model_df = pd.read_csv(Location + 'sample_sent.csv' , low_memory= False , lineterminator='\\n')\n",
        "\n",
        "#Tokenize for we\n",
        "wv = api.load('word2vec-google-news-300')\n",
        "def comment_to_feature(comment , key_to_index):\n",
        "  words = comment.lower().split()\n",
        "  word_vectors = [wv[word] for word in words if word in key_to_index]\n",
        "\n",
        "  if not word_vectors:  # Handle Out-of-Vocabulary (OOV) words\n",
        "      word_vectors = [np.zeros(wv.vector_size)]  #\n",
        "  feature_vector = np.mean(word_vectors, axis=0)\n",
        "  return feature_vector\n",
        "\n",
        "X_tf = model_df['comments'].tolist()\n",
        "y = model_df['sentiment'].tolist()\n",
        "\n",
        "#create word embeddings\n",
        "X_we = model_df['comments'].apply(lambda comment: comment_to_feature(comment, wv.key_to_index)).tolist()\n",
        "\n",
        "#split\n",
        "X_train, X_test, y_train, y_test = train_test_split(X_tf, y, test_size=0.2, random_state=42)\n",
        "X_train_we, X_test_we, y_train, y_test = train_test_split(X_we, y, test_size=0.2, random_state=42)\n",
        "\n",
        "#create the tf-idf\n",
        "vectorizer = TfidfVectorizer(stop_words='english')\n",
        "tfidf_matrix = vectorizer.fit_transform(X_train)\n",
        "X_test_tfidf = vectorizer.transform(X_test)\n",
        "\n",
        "#balancing data\n",
        "#Regarding of which method is desired , comment the specific lines.The first to resamples are for tf-idf\n",
        "\n",
        "smote = SMOTE(random_state=42)\n",
        "# X_resampled, y_resampled = smote.fit_resample(tfidf_matrix, y_train)\n",
        "# X_resampled_test, y_resampled_test = smote.fit_resample(X_test_tfidf, y_train)\n",
        "\n",
        "X_resampled, y_resampled = smote.fit_resample(X_train_we, y_train)\n",
        "X_resampled_test, y_resampled_test = smote.fit_resample(X_test_we, y_test)\n"
      ],
      "metadata": {
        "id": "jBY29-bzrZK7",
        "colab": {
          "base_uri": "https://localhost:8080/"
        },
        "outputId": "f2abea44-960e-4033-cb25-209ad8cbaa9d"
      },
      "execution_count": null,
      "outputs": [
        {
          "output_type": "stream",
          "name": "stdout",
          "text": [
            "[==================================================] 100.0% 1662.8/1662.8MB downloaded\n"
          ]
        }
      ]
    },
    {
      "cell_type": "markdown",
      "source": [
        "KNN using 10-fold Cross Validation"
      ],
      "metadata": {
        "id": "CmVLIwLV71L5"
      }
    },
    {
      "cell_type": "code",
      "source": [
        "knn = KNeighborsClassifier(n_neighbors=5)\n",
        "kfold = KFold(n_splits=10, shuffle=True, random_state=42)"
      ],
      "metadata": {
        "id": "SNuGrZK2ly_a"
      },
      "execution_count": null,
      "outputs": []
    },
    {
      "cell_type": "code",
      "source": [
        "##Train\n",
        "y_pred = cross_val_predict(knn, X_resampled, y_resampled, cv=kfold)\n",
        "\n",
        "accuracy = accuracy_score(y_resampled, y_pred)\n",
        "precision = precision_score(y_resampled, y_pred, average='macro')\n",
        "recall = recall_score(y_resampled, y_pred, average='macro')\n",
        "f1 = f1_score(y_resampled, y_pred, average='macro')\n",
        "\n",
        "print(\"Training Set Metrics:\")\n",
        "print(f\"Accuracy: {accuracy}\")\n",
        "print(f\"Precision: {precision}\")\n",
        "print(f\"Recall: {recall}\")\n",
        "print(f\"F1-score: {f1}\")\n",
        "\n",
        "#Test\n",
        "y_pred = cross_val_predict(knn, X_resampled_test, y_resampled_test, cv=kfold)\n",
        "\n",
        "accuracy = accuracy_score(y_resampled_test, y_pred)\n",
        "precision = precision_score(y_resampled_test, y_pred, average='macro')\n",
        "recall = recall_score(y_resampled_test, y_pred, average='macro')\n",
        "f1 = f1_score(y_resampled_test, y_pred, average='macro')\n",
        "\n",
        "print(\"\\nTest Set Metrics:\")\n",
        "print(f\"Accuracy: {accuracy}\")\n",
        "print(f\"Precision: {precision}\")\n",
        "print(f\"Recall: {recall}\")\n",
        "print(f\"F1-score: {f1}\")"
      ],
      "metadata": {
        "colab": {
          "base_uri": "https://localhost:8080/"
        },
        "id": "ZX6r9RYymFF4",
        "outputId": "d61b84ab-d236-4368-99f5-a25c7d8fac44"
      },
      "execution_count": null,
      "outputs": [
        {
          "output_type": "stream",
          "name": "stdout",
          "text": [
            "Training Set Metrics:\n",
            "Accuracy: 0.8927170868347339\n",
            "Precision: 0.9127987372544095\n",
            "Recall: 0.8927170868347339\n",
            "F1-score: 0.8880294554609008\n",
            "\n",
            "Test Set Metrics:\n",
            "Accuracy: 0.8801817149346962\n",
            "Precision: 0.9040195368217706\n",
            "Recall: 0.8801817149346962\n",
            "F1-score: 0.8737532207045963\n"
          ]
        }
      ]
    },
    {
      "cell_type": "markdown",
      "source": [
        "SVM using 10-fold Cross Validation"
      ],
      "metadata": {
        "id": "5-dsjm3zK90b"
      }
    },
    {
      "cell_type": "code",
      "source": [
        "svm_classifier = svm.SVC(kernel='linear')\n",
        "kfold = KFold(n_splits=10, shuffle=True, random_state=42)"
      ],
      "metadata": {
        "id": "jvKNpofxLBKQ"
      },
      "execution_count": null,
      "outputs": []
    },
    {
      "cell_type": "code",
      "source": [
        "#Train\n",
        "y_pred_train = cross_val_predict(svm_classifier, X_resampled, y_resampled, cv=kfold)\n",
        "\n",
        "accuracy_train = accuracy_score(y_resampled, y_pred_train)\n",
        "precision_train = precision_score(y_resampled, y_pred_train, average='macro')\n",
        "recall_train = recall_score(y_resampled, y_pred_train, average='macro')\n",
        "f1_train = f1_score(y_resampled, y_pred_train, average='macro')\n",
        "\n",
        "print(\"Training Set Metrics:\")\n",
        "print(f\"Accuracy: {accuracy_train}\")\n",
        "print(f\"Precision: {precision_train}\")\n",
        "print(f\"Recall: {recall_train}\")\n",
        "print(f\"F1-score: {f1_train}\")\n",
        "\n",
        "#Test\n",
        "y_pred = cross_val_predict(svm_classifier, X_resampled_test, y_resampled_test, cv=kfold)\n",
        "\n",
        "accuracy = accuracy_score(y_resampled_test, y_pred)\n",
        "precision = precision_score(y_resampled_test, y_pred, average='macro')\n",
        "recall = recall_score(y_resampled_test, y_pred, average='macro')\n",
        "f1 = f1_score(y_resampled_test, y_pred, average='macro')\n",
        "\n",
        "print(\"\\nTest Set Metrics:\")\n",
        "print(f\"Accuracy: {accuracy}\")\n",
        "print(f\"Precision: {precision}\")\n",
        "print(f\"Recall: {recall}\")\n",
        "print(f\"F1-score: {f1}\")"
      ],
      "metadata": {
        "colab": {
          "base_uri": "https://localhost:8080/"
        },
        "id": "EnLFc2hqLKXw",
        "outputId": "33f3eb31-bd5e-44bc-c070-248dd59e3005"
      },
      "execution_count": null,
      "outputs": [
        {
          "output_type": "stream",
          "name": "stdout",
          "text": [
            "Training Set Metrics:\n",
            "Accuracy: 0.9592436974789916\n",
            "Precision: 0.9610247560323626\n",
            "Recall: 0.9592436974789916\n",
            "F1-score: 0.9590294766921396\n",
            "\n",
            "Test Set Metrics:\n",
            "Accuracy: 0.9727427597955707\n",
            "Precision: 0.9745004080399512\n",
            "Recall: 0.9727427597955707\n",
            "F1-score: 0.9726169483644135\n"
          ]
        }
      ]
    },
    {
      "cell_type": "markdown",
      "source": [
        "Random Forest using 10-fold Cross Validation"
      ],
      "metadata": {
        "id": "k9tuyB4f78f3"
      }
    },
    {
      "cell_type": "code",
      "source": [
        "rf_classifier = RandomForestClassifier(n_estimators=100, random_state=42)\n",
        "kfold = KFold(n_splits=10, shuffle=True, random_state=42)"
      ],
      "metadata": {
        "id": "wPUBF_r0S9RS"
      },
      "execution_count": null,
      "outputs": []
    },
    {
      "cell_type": "code",
      "source": [
        "#Train\n",
        "y_pred = cross_val_predict(rf_classifier, X_resampled, y_resampled, cv=kfold)\n",
        "\n",
        "accuracy = accuracy_score(y_resampled, y_pred)\n",
        "precision = precision_score(y_resampled, y_pred, average='macro')\n",
        "recall = recall_score(y_resampled, y_pred, average='macro')\n",
        "f1 = f1_score(y_resampled, y_pred, average='macro')\n",
        "\n",
        "print(\"Training Set Metrics:\")\n",
        "print(f\"Accuracy: {accuracy}\")\n",
        "print(f\"Precision: {precision}\")\n",
        "print(f\"Recall: {recall}\")\n",
        "print(f\"F1-score: {f1}\")\n",
        "\n",
        "#Test\n",
        "y_pred = cross_val_predict(rf_classifier, X_resampled_test, y_resampled_test, cv=kfold)\n",
        "\n",
        "accuracy = accuracy_score(y_resampled_test, y_pred)\n",
        "precision = precision_score(y_resampled_test, y_pred, average='macro')\n",
        "recall = recall_score(y_resampled_test, y_pred, average='macro')\n",
        "f1 = f1_score(y_resampled_test, y_pred, average='macro')\n",
        "\n",
        "print(\"\\nTest Set Metrics:\")\n",
        "print(f\"Accuracy: {accuracy}\")\n",
        "print(f\"Precision: {precision}\")\n",
        "print(f\"Recall: {recall}\")\n",
        "print(f\"F1-score: {f1}\")\n"
      ],
      "metadata": {
        "colab": {
          "base_uri": "https://localhost:8080/"
        },
        "id": "y2ijdNu_TBOc",
        "outputId": "d766015b-1556-452e-cdf3-1a32fa4d468b"
      },
      "execution_count": null,
      "outputs": [
        {
          "output_type": "stream",
          "name": "stdout",
          "text": [
            "Training Set Metrics:\n",
            "Accuracy: 0.9899159663865547\n",
            "Precision: 0.9900227870940658\n",
            "Recall: 0.9899159663865547\n",
            "F1-score: 0.9899130854180527\n",
            "\n",
            "Test Set Metrics:\n",
            "Accuracy: 0.9937535491198183\n",
            "Precision: 0.9938000696621386\n",
            "Recall: 0.9937535491198183\n",
            "F1-score: 0.993753327040224\n"
          ]
        }
      ]
    }
  ]
}
